{
 "cells": [
  {
   "cell_type": "markdown",
   "metadata": {},
   "source": [
    "# Model Analysis\n",
    "This is an analysis of different types of **Classfication models** performed on Walmart Trip Type classfication problem.\n",
    "\n",
    "Since the number of triptypes were 38, it has been reduced to 5 triptypes which has almost equal bins.\n",
    "\n",
    "This analysis is as follows. \n",
    "1. Feature Engineering.\n",
    "2. Test Train Split\n",
    "3. K Nearest Neighbours Classifier\n",
    "4. Logistic Regression Classifier\n",
    "5. Naive Bayes Classifier\n",
    "6. Decision Tree Classifier\n",
    "7. SVM Classifier\n",
    "8. Random Forest Classifier\n",
    "9. LDA Classifier\n",
    "\n",
    "Each of the above classifier will have reported \n",
    "- classification accuracy\n",
    "- confusion matrix\n",
    "- classification report\n"
   ]
  },
  {
   "cell_type": "code",
   "execution_count": 1,
   "metadata": {
    "collapsed": false
   },
   "outputs": [
    {
     "name": "stderr",
     "output_type": "stream",
     "text": [
      "C:\\Users\\Gokulraj\\Anaconda3\\lib\\site-packages\\sklearn\\lda.py:4: DeprecationWarning: lda.LDA has been moved to discriminant_analysis.LinearDiscriminantAnalysis in 0.17 and will be removed in 0.19\n",
      "  \"in 0.17 and will be removed in 0.19\", DeprecationWarning)\n"
     ]
    },
    {
     "data": {
      "text/html": [
       "<div>\n",
       "<table border=\"1\" class=\"dataframe\">\n",
       "  <thead>\n",
       "    <tr style=\"text-align: right;\">\n",
       "      <th></th>\n",
       "      <th>TripType</th>\n",
       "      <th>VisitNumber</th>\n",
       "      <th>Weekday</th>\n",
       "      <th>Upc</th>\n",
       "      <th>ScanCount</th>\n",
       "      <th>DepartmentDescription</th>\n",
       "      <th>FinelineNumber</th>\n",
       "    </tr>\n",
       "  </thead>\n",
       "  <tbody>\n",
       "    <tr>\n",
       "      <th>0</th>\n",
       "      <td>37</td>\n",
       "      <td>108546</td>\n",
       "      <td>1</td>\n",
       "      <td>4.082000e+03</td>\n",
       "      <td>-1</td>\n",
       "      <td>PRODUCE</td>\n",
       "      <td>4020</td>\n",
       "    </tr>\n",
       "    <tr>\n",
       "      <th>1</th>\n",
       "      <td>38</td>\n",
       "      <td>154356</td>\n",
       "      <td>1</td>\n",
       "      <td>3.800000e+09</td>\n",
       "      <td>1</td>\n",
       "      <td>GROCERY DRY GOODS</td>\n",
       "      <td>3555</td>\n",
       "    </tr>\n",
       "    <tr>\n",
       "      <th>2</th>\n",
       "      <td>36</td>\n",
       "      <td>80296</td>\n",
       "      <td>3</td>\n",
       "      <td>8.410580e+10</td>\n",
       "      <td>1</td>\n",
       "      <td>PERSONAL CARE</td>\n",
       "      <td>1410</td>\n",
       "    </tr>\n",
       "    <tr>\n",
       "      <th>3</th>\n",
       "      <td>37</td>\n",
       "      <td>168408</td>\n",
       "      <td>4</td>\n",
       "      <td>6.701522e+10</td>\n",
       "      <td>1</td>\n",
       "      <td>GROCERY DRY GOODS</td>\n",
       "      <td>2652</td>\n",
       "    </tr>\n",
       "    <tr>\n",
       "      <th>4</th>\n",
       "      <td>3</td>\n",
       "      <td>96861</td>\n",
       "      <td>6</td>\n",
       "      <td>6.811316e+10</td>\n",
       "      <td>1</td>\n",
       "      <td>FINANCIAL SERVICES</td>\n",
       "      <td>275</td>\n",
       "    </tr>\n",
       "  </tbody>\n",
       "</table>\n",
       "</div>"
      ],
      "text/plain": [
       "   TripType  VisitNumber  Weekday           Upc  ScanCount  \\\n",
       "0        37       108546        1  4.082000e+03         -1   \n",
       "1        38       154356        1  3.800000e+09          1   \n",
       "2        36        80296        3  8.410580e+10          1   \n",
       "3        37       168408        4  6.701522e+10          1   \n",
       "4         3        96861        6  6.811316e+10          1   \n",
       "\n",
       "  DepartmentDescription  FinelineNumber  \n",
       "0               PRODUCE            4020  \n",
       "1     GROCERY DRY GOODS            3555  \n",
       "2         PERSONAL CARE            1410  \n",
       "3     GROCERY DRY GOODS            2652  \n",
       "4    FINANCIAL SERVICES             275  "
      ]
     },
     "execution_count": 1,
     "metadata": {},
     "output_type": "execute_result"
    }
   ],
   "source": [
    "#import statements\n",
    "import pandas as pd\n",
    "import numpy as np\n",
    "import re \n",
    "\n",
    "from sklearn.cross_validation import train_test_split\n",
    "from sklearn.neighbors import KNeighborsClassifier, RadiusNeighborsClassifier\n",
    "from sklearn.metrics import accuracy_score,classification_report\n",
    "from sklearn.linear_model import LogisticRegression\n",
    "from sklearn.naive_bayes import GaussianNB, BernoulliNB\n",
    "from sklearn import tree\n",
    "from sklearn import svm\n",
    "from sklearn.ensemble import RandomForestClassifier\n",
    "from sklearn.lda import LDA\n",
    "from matplotlib import pyplot as plt\n",
    "%matplotlib inline\n",
    "\n",
    "\n",
    "#importing the data into the notebook\n",
    "train_data = pd.read_csv(\"../data/fiveclasses_train.csv\")\n",
    "train_data.head()\n",
    "\n"
   ]
  },
  {
   "cell_type": "markdown",
   "metadata": {},
   "source": [
    "## 1. Feature Engineering"
   ]
  },
  {
   "cell_type": "code",
   "execution_count": 2,
   "metadata": {
    "collapsed": false
   },
   "outputs": [
    {
     "data": {
      "text/plain": [
       "(15195, 71)"
      ]
     },
     "execution_count": 2,
     "metadata": {},
     "output_type": "execute_result"
    }
   ],
   "source": [
    "features = [\"Weekday\", \"NumItems\", \"Return\", 'ACCESSORIES',\n",
    "       'AUTOMOTIVE', 'BAKERY', 'BATH AND SHOWER', 'BEAUTY', 'BEDDING',\n",
    "       'BOOKS AND MAGAZINES', 'BOYS WEAR', 'BRAS & SHAPEWEAR',\n",
    "       'CAMERAS AND SUPPLIES', 'CANDY, TOBACCO, COOKIES', 'CELEBRATION',\n",
    "       'COMM BREAD', 'CONCEPT STORES', 'COOK AND DINE', 'DAIRY', 'DSD GROCERY',\n",
    "       'ELECTRONICS', 'FABRICS AND CRAFTS', 'FINANCIAL SERVICES',\n",
    "       'FROZEN FOODS', 'FURNITURE', 'GIRLS WEAR, 4-6X  AND 7-14',\n",
    "       'GROCERY DRY GOODS', 'HARDWARE', 'HOME DECOR',\n",
    "       'HOME MANAGEMENT', 'HORTICULTURE AND ACCESS',\n",
    "       'HOUSEHOLD CHEMICALS/SUPP', 'HOUSEHOLD PAPER GOODS',\n",
    "       'IMPULSE MERCHANDISE', 'INFANT APPAREL', 'INFANT CONSUMABLE HARDLINES',\n",
    "       'JEWELRY AND SUNGLASSES', 'LADIES SOCKS', 'LADIESWEAR',\n",
    "       'LARGE HOUSEHOLD GOODS', 'LAWN AND GARDEN', 'LIQUOR,WINE,BEER',\n",
    "       'MEAT - FRESH & FROZEN', 'MEDIA AND GAMING',  'MENSWEAR',\n",
    "       'OFFICE SUPPLIES', 'OPTICAL - FRAMES', 'OPTICAL - LENSES',\n",
    "       'OTHER DEPARTMENTS', 'PAINT AND ACCESSORIES', 'PERSONAL CARE',\n",
    "       'PETS AND SUPPLIES', 'PHARMACY OTC', 'PHARMACY RX',\n",
    "       'PLAYERS AND ELECTRONICS', 'PLUS AND MATERNITY', 'PRE PACKED DELI',\n",
    "       'PRODUCE', 'SEAFOOD', 'SEASONAL', 'SERVICE DELI', 'SHEER HOSIERY',\n",
    "       'SHOES', 'SLEEPWEAR/FOUNDATIONS', 'SPORTING GOODS',\n",
    "       'SWIMWEAR/OUTERWEAR', 'TOYS', 'WIRELESS']\n",
    "#Feature Building\n",
    "def transform_my_data(data):\n",
    "    \n",
    "    dummies = pd.get_dummies(data.DepartmentDescription)\n",
    "    data[dummies.columns] = dummies \n",
    "    data_dummies = data.iloc[:,7:]\n",
    "    data_dummies = data_dummies.apply(lambda x: x*data[\"ScanCount\"])\n",
    "    data_dummies = data_dummies.replace(-0,0)\n",
    "\n",
    "    data.loc[data.ScanCount < 0, 'Return'] = 1\n",
    "    data.loc[data.Return != 1, 'Return'] = 0\n",
    "    data = data[[\"TripType\", \"VisitNumber\", \"Weekday\", \"ScanCount\", \"Return\"]]\n",
    "    data = data.rename(columns={\"ScanCount\":\"NumItems\"})\n",
    "    data = pd.concat([data, data_dummies], axis=1)\n",
    "    grouped = data.groupby(\"VisitNumber\")\n",
    "    grouped = grouped.agg({'Weekday': np.max, \"TripType\": np.max, 'NumItems': np.sum, 'Return': np.max, \n",
    "              '1-HR PHOTO': np.sum, 'ACCESSORIES': np.sum,\n",
    "       'AUTOMOTIVE': np.sum, 'BAKERY': np.sum, 'BATH AND SHOWER': np.sum, 'BEAUTY': np.sum, 'BEDDING': np.sum,\n",
    "       'BOOKS AND MAGAZINES': np.sum, 'BOYS WEAR': np.sum, 'BRAS & SHAPEWEAR': np.sum,\n",
    "       'CAMERAS AND SUPPLIES': np.sum, 'CANDY, TOBACCO, COOKIES': np.sum, 'CELEBRATION': np.sum,\n",
    "       'COMM BREAD': np.sum, 'CONCEPT STORES': np.sum, 'COOK AND DINE': np.sum, 'DAIRY': np.sum, 'DSD GROCERY': np.sum,\n",
    "       'ELECTRONICS': np.sum, 'FABRICS AND CRAFTS': np.sum, 'FINANCIAL SERVICES': np.sum,\n",
    "       'FROZEN FOODS': np.sum, 'FURNITURE': np.sum, 'GIRLS WEAR, 4-6X  AND 7-14': np.sum,\n",
    "       'GROCERY DRY GOODS': np.sum, 'HARDWARE': np.sum, 'HEALTH AND BEAUTY AIDS': np.sum, 'HOME DECOR': np.sum,\n",
    "       'HOME MANAGEMENT': np.sum, 'HORTICULTURE AND ACCESS': np.sum,\n",
    "       'HOUSEHOLD CHEMICALS/SUPP': np.sum, 'HOUSEHOLD PAPER GOODS': np.sum,\n",
    "       'IMPULSE MERCHANDISE': np.sum, 'INFANT APPAREL': np.sum, 'INFANT CONSUMABLE HARDLINES': np.sum,\n",
    "       'JEWELRY AND SUNGLASSES': np.sum, 'LADIES SOCKS': np.sum, 'LADIESWEAR': np.sum,\n",
    "       'LARGE HOUSEHOLD GOODS': np.sum, 'LAWN AND GARDEN': np.sum, 'LIQUOR,WINE,BEER': np.sum,\n",
    "       'MEAT - FRESH & FROZEN': np.sum, 'MEDIA AND GAMING': np.sum,'MENSWEAR': np.sum,\n",
    "       'OFFICE SUPPLIES': np.sum, 'OPTICAL - FRAMES': np.sum, 'OPTICAL - LENSES': np.sum,\n",
    "       'OTHER DEPARTMENTS': np.sum, 'PAINT AND ACCESSORIES': np.sum, 'PERSONAL CARE': np.sum,\n",
    "       'PETS AND SUPPLIES': np.sum, 'PHARMACY OTC': np.sum, 'PHARMACY RX': np.sum,\n",
    "       'PLAYERS AND ELECTRONICS': np.sum, 'PLUS AND MATERNITY': np.sum, 'PRE PACKED DELI': np.sum,\n",
    "       'PRODUCE': np.sum, 'SEAFOOD': np.sum, 'SEASONAL': np.sum, 'SERVICE DELI': np.sum, 'SHEER HOSIERY': np.sum,\n",
    "       'SHOES': np.sum, 'SLEEPWEAR/FOUNDATIONS': np.sum, 'SPORTING GOODS': np.sum,\n",
    "       'SWIMWEAR/OUTERWEAR': np.sum, 'TOYS': np.sum, 'WIRELESS': np.sum})\n",
    "    data = grouped[[\"TripType\", \"Weekday\", \"NumItems\", \"Return\",'1-HR PHOTO', 'ACCESSORIES',\n",
    "           'AUTOMOTIVE', 'BAKERY', 'BATH AND SHOWER', 'BEAUTY', 'BEDDING',\n",
    "           'BOOKS AND MAGAZINES', 'BOYS WEAR', 'BRAS & SHAPEWEAR',\n",
    "           'CAMERAS AND SUPPLIES', 'CANDY, TOBACCO, COOKIES', 'CELEBRATION',\n",
    "           'COMM BREAD', 'CONCEPT STORES', 'COOK AND DINE', 'DAIRY', 'DSD GROCERY',\n",
    "           'ELECTRONICS', 'FABRICS AND CRAFTS', 'FINANCIAL SERVICES',\n",
    "           'FROZEN FOODS', 'FURNITURE', 'GIRLS WEAR, 4-6X  AND 7-14',\n",
    "           'GROCERY DRY GOODS', 'HARDWARE', 'HEALTH AND BEAUTY AIDS', 'HOME DECOR',\n",
    "           'HOME MANAGEMENT', 'HORTICULTURE AND ACCESS',\n",
    "           'HOUSEHOLD CHEMICALS/SUPP', 'HOUSEHOLD PAPER GOODS',\n",
    "           'IMPULSE MERCHANDISE', 'INFANT APPAREL', 'INFANT CONSUMABLE HARDLINES',\n",
    "           'JEWELRY AND SUNGLASSES', 'LADIES SOCKS', 'LADIESWEAR',\n",
    "           'LARGE HOUSEHOLD GOODS', 'LAWN AND GARDEN', 'LIQUOR,WINE,BEER',\n",
    "           'MEAT - FRESH & FROZEN', 'MEDIA AND GAMING', 'MENSWEAR',\n",
    "           'OFFICE SUPPLIES', 'OPTICAL - FRAMES', 'OPTICAL - LENSES',\n",
    "           'OTHER DEPARTMENTS', 'PAINT AND ACCESSORIES', 'PERSONAL CARE',\n",
    "           'PETS AND SUPPLIES', 'PHARMACY OTC', 'PHARMACY RX',\n",
    "           'PLAYERS AND ELECTRONICS', 'PLUS AND MATERNITY', 'PRE PACKED DELI',\n",
    "           'PRODUCE', 'SEAFOOD', 'SEASONAL', 'SERVICE DELI', 'SHEER HOSIERY',\n",
    "           'SHOES', 'SLEEPWEAR/FOUNDATIONS', 'SPORTING GOODS',\n",
    "           'SWIMWEAR/OUTERWEAR', 'TOYS', 'WIRELESS']]\n",
    "    \n",
    "    \n",
    "    #data.head()\n",
    "    return data\n",
    "\n",
    "train_data=transform_my_data(train_data)\n",
    "train_data.shape\n",
    "#train_data.head()"
   ]
  },
  {
   "cell_type": "markdown",
   "metadata": {},
   "source": [
    "## 2. Test and Train Split"
   ]
  },
  {
   "cell_type": "code",
   "execution_count": 3,
   "metadata": {
    "collapsed": false
   },
   "outputs": [
    {
     "data": {
      "text/plain": [
       "(10636, 71)"
      ]
     },
     "execution_count": 3,
     "metadata": {},
     "output_type": "execute_result"
    }
   ],
   "source": [
    "#Data preprocesssing dropping na and splitting data into test and train\n",
    "train, test = train_test_split(train_data, test_size = 0.3)\n",
    "test=test.dropna()\n",
    "train=train.dropna()\n",
    "train_data = train\n",
    "train_data.describe()\n",
    "train_data.shape"
   ]
  },
  {
   "cell_type": "code",
   "execution_count": 4,
   "metadata": {
    "collapsed": true
   },
   "outputs": [],
   "source": [
    "#Data preprocesssing\n",
    "#Transforming qualitative variables into quantitative\n",
    "def transform(day,no):\n",
    "    global train_data\n",
    "    train_data=train_data.replace(day,no)\n",
    "    return;\n",
    "transform(\"Monday\", 1)\n",
    "transform(\"Tuesday\", 2)\n",
    "transform(\"Wednesday\", 3)\n",
    "transform(\"Thursday\", 4)\n",
    "transform(\"Friday\", 5)\n",
    "transform(\"Saturday\", 6)\n",
    "transform(\"Sunday\", 7)\n",
    "\n",
    "#Removing redundency in department description column\n",
    "train_data=train_data.replace(\"MENS WEAR\",\"MENSWEAR\")"
   ]
  },
  {
   "cell_type": "code",
   "execution_count": 5,
   "metadata": {
    "collapsed": false
   },
   "outputs": [
    {
     "data": {
      "text/plain": [
       "<matplotlib.axes._subplots.AxesSubplot at 0x16b93881e48>"
      ]
     },
     "execution_count": 5,
     "metadata": {},
     "output_type": "execute_result"
    },
    {
     "data": {
      "image/png": "[encoded data removed]",
      "text/plain": [
       "<matplotlib.figure.Figure at 0x16b934a4eb8>"
      ]
     },
     "metadata": {},
     "output_type": "display_data"
    }
   ],
   "source": [
    "\n",
    "#ploting the histogram for the trip type \n",
    "#data_tripty = train_data.drop_duplicates(\"VisitNumber\")\n",
    "plt.figure(figsize=(12,5))\n",
    "train_data['TripType'].value_counts().plot('bar',title=\"Trip Type\")"
   ]
  },
  {
   "cell_type": "code",
   "execution_count": 6,
   "metadata": {
    "collapsed": false
   },
   "outputs": [
    {
     "data": {
      "text/plain": [
       "<matplotlib.axes._subplots.AxesSubplot at 0x16b93c1ca90>"
      ]
     },
     "execution_count": 6,
     "metadata": {},
     "output_type": "execute_result"
    },
    {
     "data": {
      "image/png": "[encoded data removed]",
      "text/plain": [
       "<matplotlib.figure.Figure at 0x16b9c6bb080>"
      ]
     },
     "metadata": {},
     "output_type": "display_data"
    }
   ],
   "source": [
    "#ploting histogram for daywise visits\n",
    "#data_tripwd = train_data.drop_duplicates(\"VisitNumber\")\n",
    "plt.figure(figsize=(12,5))\n",
    "train_data['Weekday'].value_counts().plot('bar',title=\"Daywise visits in a week \")"
   ]
  },
  {
   "cell_type": "code",
   "execution_count": 7,
   "metadata": {
    "collapsed": false
   },
   "outputs": [
    {
     "data": {
      "text/plain": [
       "TripType                       5\n",
       "Weekday                        7\n",
       "NumItems                      64\n",
       "Return                         2\n",
       "1-HR PHOTO                     5\n",
       "ACCESSORIES                    5\n",
       "AUTOMOTIVE                     5\n",
       "BAKERY                         7\n",
       "BATH AND SHOWER                7\n",
       "BEAUTY                        19\n",
       "BEDDING                        3\n",
       "BOOKS AND MAGAZINES            5\n",
       "BOYS WEAR                      6\n",
       "BRAS & SHAPEWEAR               5\n",
       "CAMERAS AND SUPPLIES           2\n",
       "CANDY, TOBACCO, COOKIES       10\n",
       "CELEBRATION                    9\n",
       "COMM BREAD                    15\n",
       "CONCEPT STORES                 2\n",
       "COOK AND DINE                  9\n",
       "DAIRY                         25\n",
       "DSD GROCERY                   18\n",
       "ELECTRONICS                    4\n",
       "FABRICS AND CRAFTS             8\n",
       "FINANCIAL SERVICES            14\n",
       "FROZEN FOODS                  16\n",
       "FURNITURE                      4\n",
       "GIRLS WEAR, 4-6X  AND 7-14     7\n",
       "GROCERY DRY GOODS             32\n",
       "HARDWARE                       6\n",
       "                              ..\n",
       "LADIESWEAR                     6\n",
       "LARGE HOUSEHOLD GOODS          2\n",
       "LAWN AND GARDEN                5\n",
       "LIQUOR,WINE,BEER               7\n",
       "MEAT - FRESH & FROZEN         12\n",
       "MEDIA AND GAMING               5\n",
       "MENSWEAR                       8\n",
       "OFFICE SUPPLIES                6\n",
       "OPTICAL - FRAMES               6\n",
       "OPTICAL - LENSES               3\n",
       "OTHER DEPARTMENTS              2\n",
       "PAINT AND ACCESSORIES          4\n",
       "PERSONAL CARE                 24\n",
       "PETS AND SUPPLIES             12\n",
       "PHARMACY OTC                  21\n",
       "PHARMACY RX                    6\n",
       "PLAYERS AND ELECTRONICS        2\n",
       "PLUS AND MATERNITY             2\n",
       "PRE PACKED DELI               12\n",
       "PRODUCE                       26\n",
       "SEAFOOD                        7\n",
       "SEASONAL                       1\n",
       "SERVICE DELI                   9\n",
       "SHEER HOSIERY                  4\n",
       "SHOES                          6\n",
       "SLEEPWEAR/FOUNDATIONS          3\n",
       "SPORTING GOODS                 6\n",
       "SWIMWEAR/OUTERWEAR             3\n",
       "TOYS                           6\n",
       "WIRELESS                       3\n",
       "dtype: int64"
      ]
     },
     "execution_count": 7,
     "metadata": {},
     "output_type": "execute_result"
    }
   ],
   "source": [
    "train_data.T.apply(lambda x: x.nunique(),axis=1)"
   ]
  },
  {
   "cell_type": "code",
   "execution_count": 8,
   "metadata": {
    "collapsed": false
   },
   "outputs": [
    {
     "data": {
      "text/plain": [
       "Weekday  TripType\n",
       "1        3           289\n",
       "         5           277\n",
       "         36          253\n",
       "         37          263\n",
       "         38          291\n",
       "2        3           301\n",
       "         5           286\n",
       "         36          242\n",
       "         37          205\n",
       "         38          272\n",
       "3        3           301\n",
       "         5           311\n",
       "         36          251\n",
       "         37          202\n",
       "         38          256\n",
       "4        3           292\n",
       "         5           307\n",
       "         36          270\n",
       "         37          211\n",
       "         38          246\n",
       "5        3           517\n",
       "         5           356\n",
       "         36          356\n",
       "         37          298\n",
       "         38          292\n",
       "6        3           404\n",
       "         5           364\n",
       "         36          386\n",
       "         37          334\n",
       "         38          293\n",
       "7        3           290\n",
       "         5           300\n",
       "         36          347\n",
       "         37          390\n",
       "         38          383\n",
       "Name: TripType, dtype: int64"
      ]
     },
     "execution_count": 8,
     "metadata": {},
     "output_type": "execute_result"
    }
   ],
   "source": [
    "#train_data_dup = train_data.drop_duplicates(\"VisitNumber\")\n",
    "def get_count(values):\n",
    "    return len(values)\n",
    "grouped_count = train_data.groupby(['Weekday',\"TripType\"]).TripType.agg(get_count)\n",
    "grouped_count"
   ]
  },
  {
   "cell_type": "markdown",
   "metadata": {},
   "source": [
    "# Classification Models"
   ]
  },
  {
   "cell_type": "markdown",
   "metadata": {},
   "source": [
    "## KNN"
   ]
  },
  {
   "cell_type": "code",
   "execution_count": 9,
   "metadata": {
    "collapsed": false
   },
   "outputs": [],
   "source": [
    "#KNN classifier\n",
    "\n",
    "knc = KNeighborsClassifier(n_neighbors=5)\n",
    "knc = knc.fit(np.asarray(train_data[features]), \n",
    "                    np.asarray(train_data.TripType))\n",
    "\n",
    "predictions = knc.predict(np.asarray(test[features]))"
   ]
  },
  {
   "cell_type": "code",
   "execution_count": 10,
   "metadata": {
    "collapsed": false
   },
   "outputs": [],
   "source": [
    "# prediction1 = gnb.predict(np.asarray(train_data[features]))"
   ]
  },
  {
   "cell_type": "markdown",
   "metadata": {},
   "source": [
    "### Accuracy KNN"
   ]
  },
  {
   "cell_type": "code",
   "execution_count": 11,
   "metadata": {
    "collapsed": false
   },
   "outputs": [
    {
     "data": {
      "text/plain": [
       "0.86444395700811583"
      ]
     },
     "execution_count": 11,
     "metadata": {},
     "output_type": "execute_result"
    }
   ],
   "source": [
    "#Accuracy of KNN\n",
    "\n",
    "accuracy_score(test.TripType,predictions )"
   ]
  },
  {
   "cell_type": "code",
   "execution_count": 12,
   "metadata": {
    "collapsed": false
   },
   "outputs": [],
   "source": [
    "# Accuracy Training \n",
    "# accuracy_score(train_data.TripType,predictions1 )"
   ]
  },
  {
   "cell_type": "markdown",
   "metadata": {},
   "source": [
    "### Confusion Matrix KNN"
   ]
  },
  {
   "cell_type": "code",
   "execution_count": 13,
   "metadata": {
    "collapsed": false
   },
   "outputs": [
    {
     "data": {
      "text/html": [
       "<div>\n",
       "<table border=\"1\" class=\"dataframe\">\n",
       "  <thead>\n",
       "    <tr style=\"text-align: right;\">\n",
       "      <th>Predicted</th>\n",
       "      <th>3</th>\n",
       "      <th>5</th>\n",
       "      <th>36</th>\n",
       "      <th>37</th>\n",
       "      <th>38</th>\n",
       "      <th>All</th>\n",
       "    </tr>\n",
       "    <tr>\n",
       "      <th>True</th>\n",
       "      <th></th>\n",
       "      <th></th>\n",
       "      <th></th>\n",
       "      <th></th>\n",
       "      <th></th>\n",
       "      <th></th>\n",
       "    </tr>\n",
       "  </thead>\n",
       "  <tbody>\n",
       "    <tr>\n",
       "      <th>3</th>\n",
       "      <td>970</td>\n",
       "      <td>12</td>\n",
       "      <td>7</td>\n",
       "      <td>2</td>\n",
       "      <td>3</td>\n",
       "      <td>994</td>\n",
       "    </tr>\n",
       "    <tr>\n",
       "      <th>5</th>\n",
       "      <td>27</td>\n",
       "      <td>787</td>\n",
       "      <td>64</td>\n",
       "      <td>24</td>\n",
       "      <td>30</td>\n",
       "      <td>932</td>\n",
       "    </tr>\n",
       "    <tr>\n",
       "      <th>36</th>\n",
       "      <td>18</td>\n",
       "      <td>94</td>\n",
       "      <td>739</td>\n",
       "      <td>15</td>\n",
       "      <td>19</td>\n",
       "      <td>885</td>\n",
       "    </tr>\n",
       "    <tr>\n",
       "      <th>37</th>\n",
       "      <td>4</td>\n",
       "      <td>17</td>\n",
       "      <td>21</td>\n",
       "      <td>729</td>\n",
       "      <td>106</td>\n",
       "      <td>877</td>\n",
       "    </tr>\n",
       "    <tr>\n",
       "      <th>38</th>\n",
       "      <td>7</td>\n",
       "      <td>36</td>\n",
       "      <td>32</td>\n",
       "      <td>80</td>\n",
       "      <td>716</td>\n",
       "      <td>871</td>\n",
       "    </tr>\n",
       "    <tr>\n",
       "      <th>All</th>\n",
       "      <td>1026</td>\n",
       "      <td>946</td>\n",
       "      <td>863</td>\n",
       "      <td>850</td>\n",
       "      <td>874</td>\n",
       "      <td>4559</td>\n",
       "    </tr>\n",
       "  </tbody>\n",
       "</table>\n",
       "</div>"
      ],
      "text/plain": [
       "Predicted     3    5   36   37   38   All\n",
       "True                                     \n",
       "3           970   12    7    2    3   994\n",
       "5            27  787   64   24   30   932\n",
       "36           18   94  739   15   19   885\n",
       "37            4   17   21  729  106   877\n",
       "38            7   36   32   80  716   871\n",
       "All        1026  946  863  850  874  4559"
      ]
     },
     "execution_count": 13,
     "metadata": {},
     "output_type": "execute_result"
    }
   ],
   "source": [
    "# Confusion Matrix\n",
    "pd.crosstab(test.TripType,predictions , rownames=['True'], colnames=['Predicted'], margins=True)"
   ]
  },
  {
   "cell_type": "markdown",
   "metadata": {},
   "source": [
    "### Classification Report KNN"
   ]
  },
  {
   "cell_type": "code",
   "execution_count": 14,
   "metadata": {
    "collapsed": false
   },
   "outputs": [
    {
     "name": "stdout",
     "output_type": "stream",
     "text": [
      "             precision    recall  f1-score   support\n",
      "\n",
      "          3       0.95      0.98      0.96       994\n",
      "          5       0.83      0.84      0.84       932\n",
      "         36       0.86      0.84      0.85       885\n",
      "         37       0.86      0.83      0.84       877\n",
      "         38       0.82      0.82      0.82       871\n",
      "\n",
      "avg / total       0.86      0.86      0.86      4559\n",
      "\n"
     ]
    }
   ],
   "source": [
    "#pd.crosstab(test.TripType,predictions , rownames=['True'], colnames=['Predicted'], margins=True)\n",
    "print(classification_report(test[\"TripType\"], predictions))"
   ]
  },
  {
   "cell_type": "markdown",
   "metadata": {},
   "source": [
    "# Logistic Regression"
   ]
  },
  {
   "cell_type": "code",
   "execution_count": 15,
   "metadata": {
    "collapsed": false
   },
   "outputs": [],
   "source": [
    "#Logistic Regression\n",
    "\n",
    "train_data.TripType = train_data.TripType.astype(float)\n",
    "train_data.Weekday = train_data.Weekday.astype(float)  \n",
    "                         \n",
    "test.TripType = test.TripType.astype(float)\n",
    "test.Weekday = test.Weekday.astype(float)  \n"
   ]
  },
  {
   "cell_type": "code",
   "execution_count": 16,
   "metadata": {
    "collapsed": false
   },
   "outputs": [
    {
     "data": {
      "text/plain": [
       "LogisticRegression(C=1.0, class_weight=None, dual=False, fit_intercept=True,\n",
       "          intercept_scaling=1, max_iter=100, multi_class='ovr', n_jobs=1,\n",
       "          penalty='l2', random_state=None, solver='liblinear', tol=0.0001,\n",
       "          verbose=0, warm_start=False)"
      ]
     },
     "execution_count": 16,
     "metadata": {},
     "output_type": "execute_result"
    }
   ],
   "source": [
    "lr = LogisticRegression()\n",
    "lr.fit(X = np.asarray(train_data[features]), y = np.asarray(train_data.TripType))\n",
    "\n"
   ]
  },
  {
   "cell_type": "code",
   "execution_count": 17,
   "metadata": {
    "collapsed": false
   },
   "outputs": [],
   "source": [
    "predictions = lr.predict(np.asarray(test[features]))"
   ]
  },
  {
   "cell_type": "code",
   "execution_count": 18,
   "metadata": {
    "collapsed": false
   },
   "outputs": [],
   "source": [
    "# prediction1 = gnb.predict(np.asarray(train_data[features]))"
   ]
  },
  {
   "cell_type": "markdown",
   "metadata": {},
   "source": [
    "### Confusion Matrix logistic regression"
   ]
  },
  {
   "cell_type": "code",
   "execution_count": 19,
   "metadata": {
    "collapsed": false
   },
   "outputs": [
    {
     "data": {
      "text/html": [
       "<div>\n",
       "<table border=\"1\" class=\"dataframe\">\n",
       "  <thead>\n",
       "    <tr style=\"text-align: right;\">\n",
       "      <th>Predicted</th>\n",
       "      <th>3.0</th>\n",
       "      <th>5.0</th>\n",
       "      <th>36.0</th>\n",
       "      <th>37.0</th>\n",
       "      <th>38.0</th>\n",
       "      <th>All</th>\n",
       "    </tr>\n",
       "    <tr>\n",
       "      <th>True</th>\n",
       "      <th></th>\n",
       "      <th></th>\n",
       "      <th></th>\n",
       "      <th></th>\n",
       "      <th></th>\n",
       "      <th></th>\n",
       "    </tr>\n",
       "  </thead>\n",
       "  <tbody>\n",
       "    <tr>\n",
       "      <th>3.0</th>\n",
       "      <td>972</td>\n",
       "      <td>16</td>\n",
       "      <td>5</td>\n",
       "      <td>0</td>\n",
       "      <td>1</td>\n",
       "      <td>994</td>\n",
       "    </tr>\n",
       "    <tr>\n",
       "      <th>5.0</th>\n",
       "      <td>22</td>\n",
       "      <td>812</td>\n",
       "      <td>56</td>\n",
       "      <td>19</td>\n",
       "      <td>23</td>\n",
       "      <td>932</td>\n",
       "    </tr>\n",
       "    <tr>\n",
       "      <th>36.0</th>\n",
       "      <td>12</td>\n",
       "      <td>64</td>\n",
       "      <td>779</td>\n",
       "      <td>11</td>\n",
       "      <td>19</td>\n",
       "      <td>885</td>\n",
       "    </tr>\n",
       "    <tr>\n",
       "      <th>37.0</th>\n",
       "      <td>2</td>\n",
       "      <td>14</td>\n",
       "      <td>17</td>\n",
       "      <td>761</td>\n",
       "      <td>83</td>\n",
       "      <td>877</td>\n",
       "    </tr>\n",
       "    <tr>\n",
       "      <th>38.0</th>\n",
       "      <td>2</td>\n",
       "      <td>24</td>\n",
       "      <td>22</td>\n",
       "      <td>64</td>\n",
       "      <td>759</td>\n",
       "      <td>871</td>\n",
       "    </tr>\n",
       "    <tr>\n",
       "      <th>All</th>\n",
       "      <td>1010</td>\n",
       "      <td>930</td>\n",
       "      <td>879</td>\n",
       "      <td>855</td>\n",
       "      <td>885</td>\n",
       "      <td>4559</td>\n",
       "    </tr>\n",
       "  </tbody>\n",
       "</table>\n",
       "</div>"
      ],
      "text/plain": [
       "Predicted   3.0  5.0  36.0  37.0  38.0   All\n",
       "True                                        \n",
       "3.0         972   16     5     0     1   994\n",
       "5.0          22  812    56    19    23   932\n",
       "36.0         12   64   779    11    19   885\n",
       "37.0          2   14    17   761    83   877\n",
       "38.0          2   24    22    64   759   871\n",
       "All        1010  930   879   855   885  4559"
      ]
     },
     "execution_count": 19,
     "metadata": {},
     "output_type": "execute_result"
    }
   ],
   "source": [
    "pd.crosstab(test.TripType,predictions , rownames=['True'], colnames=['Predicted'], margins=True)"
   ]
  },
  {
   "cell_type": "markdown",
   "metadata": {},
   "source": [
    "### Accuracy logistic Regression"
   ]
  },
  {
   "cell_type": "code",
   "execution_count": 20,
   "metadata": {
    "collapsed": false
   },
   "outputs": [
    {
     "data": {
      "text/plain": [
       "0.89559113840754556"
      ]
     },
     "execution_count": 20,
     "metadata": {},
     "output_type": "execute_result"
    }
   ],
   "source": [
    "#Accuracy of logistic regression\n",
    "accuracy_score(test.TripType,predictions )"
   ]
  },
  {
   "cell_type": "code",
   "execution_count": 21,
   "metadata": {
    "collapsed": false
   },
   "outputs": [],
   "source": [
    "#Accuracy training = 0. 947652"
   ]
  },
  {
   "cell_type": "markdown",
   "metadata": {},
   "source": [
    "### Classification Report Logistic Regression"
   ]
  },
  {
   "cell_type": "code",
   "execution_count": 22,
   "metadata": {
    "collapsed": false
   },
   "outputs": [
    {
     "name": "stdout",
     "output_type": "stream",
     "text": [
      "             precision    recall  f1-score   support\n",
      "\n",
      "        3.0       0.96      0.98      0.97       994\n",
      "        5.0       0.87      0.87      0.87       932\n",
      "       36.0       0.89      0.88      0.88       885\n",
      "       37.0       0.89      0.87      0.88       877\n",
      "       38.0       0.86      0.87      0.86       871\n",
      "\n",
      "avg / total       0.90      0.90      0.90      4559\n",
      "\n"
     ]
    }
   ],
   "source": [
    "pd.crosstab(test.TripType,predictions , rownames=['True'], colnames=['Predicted'], margins=True)\n",
    "print(classification_report(test[\"TripType\"], predictions))"
   ]
  },
  {
   "cell_type": "markdown",
   "metadata": {
    "collapsed": true
   },
   "source": [
    "# Naive Bayes\n"
   ]
  },
  {
   "cell_type": "code",
   "execution_count": 23,
   "metadata": {
    "collapsed": false
   },
   "outputs": [],
   "source": [
    "gnb = GaussianNB()\n",
    "\n",
    "gnb = gnb.fit(np.asarray(train_data[features]), \n",
    "                    np.asarray(train_data.TripType))\n",
    "prediction = gnb.predict(np.asarray(test[features]))\n",
    "\n"
   ]
  },
  {
   "cell_type": "code",
   "execution_count": 24,
   "metadata": {
    "collapsed": true
   },
   "outputs": [],
   "source": [
    "prediction1 = gnb.predict(np.asarray(train_data[features]))"
   ]
  },
  {
   "cell_type": "markdown",
   "metadata": {},
   "source": [
    "### Accuracy NB"
   ]
  },
  {
   "cell_type": "code",
   "execution_count": 25,
   "metadata": {
    "collapsed": false
   },
   "outputs": [
    {
     "data": {
      "text/plain": [
       "0.58587409519631495"
      ]
     },
     "execution_count": 25,
     "metadata": {},
     "output_type": "execute_result"
    }
   ],
   "source": [
    "#Accuracy of naive Bayes\n",
    "accuracy_score(test.TripType,prediction )"
   ]
  },
  {
   "cell_type": "code",
   "execution_count": 26,
   "metadata": {
    "collapsed": false
   },
   "outputs": [
    {
     "data": {
      "text/plain": [
       "0.59270402406919898"
      ]
     },
     "execution_count": 26,
     "metadata": {},
     "output_type": "execute_result"
    }
   ],
   "source": [
    "# Training Accuracy\n",
    "accuracy_score(train_data.TripType,prediction1 )"
   ]
  },
  {
   "cell_type": "markdown",
   "metadata": {},
   "source": [
    "### Confusion Matrix NB"
   ]
  },
  {
   "cell_type": "code",
   "execution_count": 27,
   "metadata": {
    "collapsed": false
   },
   "outputs": [
    {
     "data": {
      "text/html": [
       "<div>\n",
       "<table border=\"1\" class=\"dataframe\">\n",
       "  <thead>\n",
       "    <tr style=\"text-align: right;\">\n",
       "      <th>Predicted</th>\n",
       "      <th>3.0</th>\n",
       "      <th>5.0</th>\n",
       "      <th>36.0</th>\n",
       "      <th>37.0</th>\n",
       "      <th>38.0</th>\n",
       "      <th>All</th>\n",
       "    </tr>\n",
       "    <tr>\n",
       "      <th>True</th>\n",
       "      <th></th>\n",
       "      <th></th>\n",
       "      <th></th>\n",
       "      <th></th>\n",
       "      <th></th>\n",
       "      <th></th>\n",
       "    </tr>\n",
       "  </thead>\n",
       "  <tbody>\n",
       "    <tr>\n",
       "      <th>3.0</th>\n",
       "      <td>942</td>\n",
       "      <td>10</td>\n",
       "      <td>14</td>\n",
       "      <td>6</td>\n",
       "      <td>22</td>\n",
       "      <td>994</td>\n",
       "    </tr>\n",
       "    <tr>\n",
       "      <th>5.0</th>\n",
       "      <td>319</td>\n",
       "      <td>483</td>\n",
       "      <td>60</td>\n",
       "      <td>20</td>\n",
       "      <td>50</td>\n",
       "      <td>932</td>\n",
       "    </tr>\n",
       "    <tr>\n",
       "      <th>36.0</th>\n",
       "      <td>49</td>\n",
       "      <td>414</td>\n",
       "      <td>326</td>\n",
       "      <td>26</td>\n",
       "      <td>70</td>\n",
       "      <td>885</td>\n",
       "    </tr>\n",
       "    <tr>\n",
       "      <th>37.0</th>\n",
       "      <td>2</td>\n",
       "      <td>152</td>\n",
       "      <td>17</td>\n",
       "      <td>308</td>\n",
       "      <td>398</td>\n",
       "      <td>877</td>\n",
       "    </tr>\n",
       "    <tr>\n",
       "      <th>38.0</th>\n",
       "      <td>7</td>\n",
       "      <td>173</td>\n",
       "      <td>20</td>\n",
       "      <td>59</td>\n",
       "      <td>612</td>\n",
       "      <td>871</td>\n",
       "    </tr>\n",
       "    <tr>\n",
       "      <th>All</th>\n",
       "      <td>1319</td>\n",
       "      <td>1232</td>\n",
       "      <td>437</td>\n",
       "      <td>419</td>\n",
       "      <td>1152</td>\n",
       "      <td>4559</td>\n",
       "    </tr>\n",
       "  </tbody>\n",
       "</table>\n",
       "</div>"
      ],
      "text/plain": [
       "Predicted   3.0   5.0  36.0  37.0  38.0   All\n",
       "True                                         \n",
       "3.0         942    10    14     6    22   994\n",
       "5.0         319   483    60    20    50   932\n",
       "36.0         49   414   326    26    70   885\n",
       "37.0          2   152    17   308   398   877\n",
       "38.0          7   173    20    59   612   871\n",
       "All        1319  1232   437   419  1152  4559"
      ]
     },
     "execution_count": 27,
     "metadata": {},
     "output_type": "execute_result"
    }
   ],
   "source": [
    "pd.crosstab(test.TripType,prediction , rownames=['True'], colnames=['Predicted'], margins=True)"
   ]
  },
  {
   "cell_type": "markdown",
   "metadata": {},
   "source": [
    "### Classification Report NB"
   ]
  },
  {
   "cell_type": "code",
   "execution_count": 28,
   "metadata": {
    "collapsed": false
   },
   "outputs": [
    {
     "name": "stdout",
     "output_type": "stream",
     "text": [
      "             precision    recall  f1-score   support\n",
      "\n",
      "        3.0       0.96      0.98      0.97       994\n",
      "        5.0       0.87      0.87      0.87       932\n",
      "       36.0       0.89      0.88      0.88       885\n",
      "       37.0       0.89      0.87      0.88       877\n",
      "       38.0       0.86      0.87      0.86       871\n",
      "\n",
      "avg / total       0.90      0.90      0.90      4559\n",
      "\n"
     ]
    }
   ],
   "source": [
    "print(classification_report(test[\"TripType\"], predictions))"
   ]
  },
  {
   "cell_type": "markdown",
   "metadata": {},
   "source": [
    "# Decision Tree"
   ]
  },
  {
   "cell_type": "code",
   "execution_count": 29,
   "metadata": {
    "collapsed": true
   },
   "outputs": [],
   "source": [
    "# Decision Tree\n",
    "\n",
    "clf = tree.DecisionTreeClassifier()\n",
    "clf = clf.fit(np.asarray(train_data[features]), \n",
    "                    np.asarray(train_data.TripType))\n",
    "predictions = clf.predict(np.asarray(test[features]))"
   ]
  },
  {
   "cell_type": "code",
   "execution_count": 30,
   "metadata": {
    "collapsed": true
   },
   "outputs": [],
   "source": [
    "predictions1 = clf.predict(np.asarray(train_data[features]))"
   ]
  },
  {
   "cell_type": "markdown",
   "metadata": {},
   "source": [
    "### Accuracy of Decision Tree"
   ]
  },
  {
   "cell_type": "code",
   "execution_count": 31,
   "metadata": {
    "collapsed": false
   },
   "outputs": [
    {
     "data": {
      "text/plain": [
       "0.85040579074358413"
      ]
     },
     "execution_count": 31,
     "metadata": {},
     "output_type": "execute_result"
    }
   ],
   "source": [
    "#Accuracy of Decision Tree\n",
    "accuracy_score(test.TripType,predictions )"
   ]
  },
  {
   "cell_type": "code",
   "execution_count": 32,
   "metadata": {
    "collapsed": false
   },
   "outputs": [
    {
     "data": {
      "text/plain": [
       "0.98364046634072955"
      ]
     },
     "execution_count": 32,
     "metadata": {},
     "output_type": "execute_result"
    }
   ],
   "source": [
    "# Train Accuracy\n",
    "accuracy_score(train_data.TripType,predictions1 )"
   ]
  },
  {
   "cell_type": "markdown",
   "metadata": {},
   "source": [
    "### Confusion Matrix Decision Tree"
   ]
  },
  {
   "cell_type": "code",
   "execution_count": 33,
   "metadata": {
    "collapsed": false
   },
   "outputs": [
    {
     "data": {
      "text/html": [
       "<div>\n",
       "<table border=\"1\" class=\"dataframe\">\n",
       "  <thead>\n",
       "    <tr style=\"text-align: right;\">\n",
       "      <th>Predicted</th>\n",
       "      <th>3.0</th>\n",
       "      <th>5.0</th>\n",
       "      <th>36.0</th>\n",
       "      <th>37.0</th>\n",
       "      <th>38.0</th>\n",
       "      <th>All</th>\n",
       "    </tr>\n",
       "    <tr>\n",
       "      <th>True</th>\n",
       "      <th></th>\n",
       "      <th></th>\n",
       "      <th></th>\n",
       "      <th></th>\n",
       "      <th></th>\n",
       "      <th></th>\n",
       "    </tr>\n",
       "  </thead>\n",
       "  <tbody>\n",
       "    <tr>\n",
       "      <th>3.0</th>\n",
       "      <td>974</td>\n",
       "      <td>12</td>\n",
       "      <td>6</td>\n",
       "      <td>1</td>\n",
       "      <td>1</td>\n",
       "      <td>994</td>\n",
       "    </tr>\n",
       "    <tr>\n",
       "      <th>5.0</th>\n",
       "      <td>24</td>\n",
       "      <td>773</td>\n",
       "      <td>88</td>\n",
       "      <td>18</td>\n",
       "      <td>29</td>\n",
       "      <td>932</td>\n",
       "    </tr>\n",
       "    <tr>\n",
       "      <th>36.0</th>\n",
       "      <td>9</td>\n",
       "      <td>92</td>\n",
       "      <td>734</td>\n",
       "      <td>19</td>\n",
       "      <td>31</td>\n",
       "      <td>885</td>\n",
       "    </tr>\n",
       "    <tr>\n",
       "      <th>37.0</th>\n",
       "      <td>2</td>\n",
       "      <td>29</td>\n",
       "      <td>28</td>\n",
       "      <td>709</td>\n",
       "      <td>109</td>\n",
       "      <td>877</td>\n",
       "    </tr>\n",
       "    <tr>\n",
       "      <th>38.0</th>\n",
       "      <td>10</td>\n",
       "      <td>28</td>\n",
       "      <td>39</td>\n",
       "      <td>107</td>\n",
       "      <td>687</td>\n",
       "      <td>871</td>\n",
       "    </tr>\n",
       "    <tr>\n",
       "      <th>All</th>\n",
       "      <td>1019</td>\n",
       "      <td>934</td>\n",
       "      <td>895</td>\n",
       "      <td>854</td>\n",
       "      <td>857</td>\n",
       "      <td>4559</td>\n",
       "    </tr>\n",
       "  </tbody>\n",
       "</table>\n",
       "</div>"
      ],
      "text/plain": [
       "Predicted   3.0  5.0  36.0  37.0  38.0   All\n",
       "True                                        \n",
       "3.0         974   12     6     1     1   994\n",
       "5.0          24  773    88    18    29   932\n",
       "36.0          9   92   734    19    31   885\n",
       "37.0          2   29    28   709   109   877\n",
       "38.0         10   28    39   107   687   871\n",
       "All        1019  934   895   854   857  4559"
      ]
     },
     "execution_count": 33,
     "metadata": {},
     "output_type": "execute_result"
    }
   ],
   "source": [
    "pd.crosstab(test.TripType,predictions , rownames=['True'], colnames=['Predicted'], margins=True)\n"
   ]
  },
  {
   "cell_type": "markdown",
   "metadata": {},
   "source": [
    "### Classification report Desicion Tree"
   ]
  },
  {
   "cell_type": "code",
   "execution_count": 34,
   "metadata": {
    "collapsed": false
   },
   "outputs": [
    {
     "name": "stdout",
     "output_type": "stream",
     "text": [
      "             precision    recall  f1-score   support\n",
      "\n",
      "        3.0       0.96      0.98      0.97       994\n",
      "        5.0       0.83      0.83      0.83       932\n",
      "       36.0       0.82      0.83      0.82       885\n",
      "       37.0       0.83      0.81      0.82       877\n",
      "       38.0       0.80      0.79      0.80       871\n",
      "\n",
      "avg / total       0.85      0.85      0.85      4559\n",
      "\n"
     ]
    }
   ],
   "source": [
    "print(classification_report(test[\"TripType\"], predictions))"
   ]
  },
  {
   "cell_type": "markdown",
   "metadata": {},
   "source": [
    "# Support Vector Machine"
   ]
  },
  {
   "cell_type": "code",
   "execution_count": 35,
   "metadata": {
    "collapsed": true
   },
   "outputs": [],
   "source": [
    "#SVM\n",
    "\n",
    "clf = svm.SVC(decision_function_shape='ovr')\n",
    "clf = clf.fit(np.asarray(train_data[features]), \n",
    "                    np.asarray(train_data.TripType))"
   ]
  },
  {
   "cell_type": "code",
   "execution_count": 36,
   "metadata": {
    "collapsed": true
   },
   "outputs": [],
   "source": [
    "predictions = clf.predict(np.asarray(test[features]))"
   ]
  },
  {
   "cell_type": "code",
   "execution_count": 37,
   "metadata": {
    "collapsed": true
   },
   "outputs": [],
   "source": [
    "predictions1 = clf.predict(np.asarray(train_data[features]))"
   ]
  },
  {
   "cell_type": "markdown",
   "metadata": {},
   "source": [
    "### Accuracy of SVM"
   ]
  },
  {
   "cell_type": "code",
   "execution_count": 38,
   "metadata": {
    "collapsed": false
   },
   "outputs": [
    {
     "data": {
      "text/plain": [
       "0.89230094318929587"
      ]
     },
     "execution_count": 38,
     "metadata": {},
     "output_type": "execute_result"
    }
   ],
   "source": [
    "#Accuracy of SVM\n",
    "accuracy_score(test.TripType,predictions )"
   ]
  },
  {
   "cell_type": "code",
   "execution_count": 39,
   "metadata": {
    "collapsed": false
   },
   "outputs": [
    {
     "data": {
      "text/plain": [
       "0.90221887927792399"
      ]
     },
     "execution_count": 39,
     "metadata": {},
     "output_type": "execute_result"
    }
   ],
   "source": [
    "# Training Accuracy\n",
    "accuracy_score(train_data.TripType,predictions1 )"
   ]
  },
  {
   "cell_type": "markdown",
   "metadata": {},
   "source": [
    "### Confusion Matrix SVM"
   ]
  },
  {
   "cell_type": "code",
   "execution_count": 40,
   "metadata": {
    "collapsed": false
   },
   "outputs": [
    {
     "data": {
      "text/html": [
       "<div>\n",
       "<table border=\"1\" class=\"dataframe\">\n",
       "  <thead>\n",
       "    <tr style=\"text-align: right;\">\n",
       "      <th>Predicted</th>\n",
       "      <th>3.0</th>\n",
       "      <th>5.0</th>\n",
       "      <th>36.0</th>\n",
       "      <th>37.0</th>\n",
       "      <th>38.0</th>\n",
       "      <th>All</th>\n",
       "    </tr>\n",
       "    <tr>\n",
       "      <th>True</th>\n",
       "      <th></th>\n",
       "      <th></th>\n",
       "      <th></th>\n",
       "      <th></th>\n",
       "      <th></th>\n",
       "      <th></th>\n",
       "    </tr>\n",
       "  </thead>\n",
       "  <tbody>\n",
       "    <tr>\n",
       "      <th>3.0</th>\n",
       "      <td>964</td>\n",
       "      <td>20</td>\n",
       "      <td>6</td>\n",
       "      <td>2</td>\n",
       "      <td>2</td>\n",
       "      <td>994</td>\n",
       "    </tr>\n",
       "    <tr>\n",
       "      <th>5.0</th>\n",
       "      <td>12</td>\n",
       "      <td>825</td>\n",
       "      <td>49</td>\n",
       "      <td>21</td>\n",
       "      <td>25</td>\n",
       "      <td>932</td>\n",
       "    </tr>\n",
       "    <tr>\n",
       "      <th>36.0</th>\n",
       "      <td>6</td>\n",
       "      <td>67</td>\n",
       "      <td>768</td>\n",
       "      <td>22</td>\n",
       "      <td>22</td>\n",
       "      <td>885</td>\n",
       "    </tr>\n",
       "    <tr>\n",
       "      <th>37.0</th>\n",
       "      <td>2</td>\n",
       "      <td>18</td>\n",
       "      <td>13</td>\n",
       "      <td>754</td>\n",
       "      <td>90</td>\n",
       "      <td>877</td>\n",
       "    </tr>\n",
       "    <tr>\n",
       "      <th>38.0</th>\n",
       "      <td>2</td>\n",
       "      <td>28</td>\n",
       "      <td>22</td>\n",
       "      <td>62</td>\n",
       "      <td>757</td>\n",
       "      <td>871</td>\n",
       "    </tr>\n",
       "    <tr>\n",
       "      <th>All</th>\n",
       "      <td>986</td>\n",
       "      <td>958</td>\n",
       "      <td>858</td>\n",
       "      <td>861</td>\n",
       "      <td>896</td>\n",
       "      <td>4559</td>\n",
       "    </tr>\n",
       "  </tbody>\n",
       "</table>\n",
       "</div>"
      ],
      "text/plain": [
       "Predicted  3.0  5.0  36.0  37.0  38.0   All\n",
       "True                                       \n",
       "3.0        964   20     6     2     2   994\n",
       "5.0         12  825    49    21    25   932\n",
       "36.0         6   67   768    22    22   885\n",
       "37.0         2   18    13   754    90   877\n",
       "38.0         2   28    22    62   757   871\n",
       "All        986  958   858   861   896  4559"
      ]
     },
     "execution_count": 40,
     "metadata": {},
     "output_type": "execute_result"
    }
   ],
   "source": [
    "pd.crosstab(test.TripType,predictions , rownames=['True'], colnames=['Predicted'], margins=True)"
   ]
  },
  {
   "cell_type": "markdown",
   "metadata": {},
   "source": [
    "### Classification Report SVM"
   ]
  },
  {
   "cell_type": "code",
   "execution_count": 41,
   "metadata": {
    "collapsed": false
   },
   "outputs": [
    {
     "name": "stdout",
     "output_type": "stream",
     "text": [
      "             precision    recall  f1-score   support\n",
      "\n",
      "        3.0       0.98      0.97      0.97       994\n",
      "        5.0       0.86      0.89      0.87       932\n",
      "       36.0       0.90      0.87      0.88       885\n",
      "       37.0       0.88      0.86      0.87       877\n",
      "       38.0       0.84      0.87      0.86       871\n",
      "\n",
      "avg / total       0.89      0.89      0.89      4559\n",
      "\n"
     ]
    }
   ],
   "source": [
    "print(classification_report(test[\"TripType\"], predictions))"
   ]
  },
  {
   "cell_type": "markdown",
   "metadata": {},
   "source": [
    "# Random Forest"
   ]
  },
  {
   "cell_type": "code",
   "execution_count": 42,
   "metadata": {
    "collapsed": false
   },
   "outputs": [],
   "source": [
    "#Random Forest\n",
    "\n",
    "walmart_rf = RandomForestClassifier(n_estimators=100)\n",
    "walmart_rf = walmart_rf.fit(np.asarray(train_data[features]), np.asarray(train_data.TripType))\n",
    "predictions = walmart_rf.predict(np.asarray(test[features]))\n"
   ]
  },
  {
   "cell_type": "code",
   "execution_count": 43,
   "metadata": {
    "collapsed": true
   },
   "outputs": [],
   "source": [
    "predictions1 = clf.predict(np.asarray(train_data[features]))"
   ]
  },
  {
   "cell_type": "markdown",
   "metadata": {},
   "source": [
    "### Accuracy Random Forest"
   ]
  },
  {
   "cell_type": "code",
   "execution_count": 44,
   "metadata": {
    "collapsed": false
   },
   "outputs": [
    {
     "data": {
      "text/plain": [
       "0.88703663084009654"
      ]
     },
     "execution_count": 44,
     "metadata": {},
     "output_type": "execute_result"
    }
   ],
   "source": [
    "#Accuracy of Random Forest\n",
    "accuracy_score(test.TripType,predictions )\n"
   ]
  },
  {
   "cell_type": "code",
   "execution_count": 45,
   "metadata": {
    "collapsed": false
   },
   "outputs": [
    {
     "data": {
      "text/plain": [
       "0.90221887927792399"
      ]
     },
     "execution_count": 45,
     "metadata": {},
     "output_type": "execute_result"
    }
   ],
   "source": [
    "# Training Accuracy\n",
    "accuracy_score(train_data.TripType,predictions1 )"
   ]
  },
  {
   "cell_type": "markdown",
   "metadata": {},
   "source": [
    "### Confusion Matrix Random Forest"
   ]
  },
  {
   "cell_type": "code",
   "execution_count": 46,
   "metadata": {
    "collapsed": false
   },
   "outputs": [
    {
     "data": {
      "text/html": [
       "<div>\n",
       "<table border=\"1\" class=\"dataframe\">\n",
       "  <thead>\n",
       "    <tr style=\"text-align: right;\">\n",
       "      <th>Predicted</th>\n",
       "      <th>3.0</th>\n",
       "      <th>5.0</th>\n",
       "      <th>36.0</th>\n",
       "      <th>37.0</th>\n",
       "      <th>38.0</th>\n",
       "      <th>All</th>\n",
       "    </tr>\n",
       "    <tr>\n",
       "      <th>True</th>\n",
       "      <th></th>\n",
       "      <th></th>\n",
       "      <th></th>\n",
       "      <th></th>\n",
       "      <th></th>\n",
       "      <th></th>\n",
       "    </tr>\n",
       "  </thead>\n",
       "  <tbody>\n",
       "    <tr>\n",
       "      <th>3.0</th>\n",
       "      <td>974</td>\n",
       "      <td>13</td>\n",
       "      <td>5</td>\n",
       "      <td>1</td>\n",
       "      <td>1</td>\n",
       "      <td>994</td>\n",
       "    </tr>\n",
       "    <tr>\n",
       "      <th>5.0</th>\n",
       "      <td>20</td>\n",
       "      <td>793</td>\n",
       "      <td>77</td>\n",
       "      <td>15</td>\n",
       "      <td>27</td>\n",
       "      <td>932</td>\n",
       "    </tr>\n",
       "    <tr>\n",
       "      <th>36.0</th>\n",
       "      <td>6</td>\n",
       "      <td>78</td>\n",
       "      <td>767</td>\n",
       "      <td>14</td>\n",
       "      <td>20</td>\n",
       "      <td>885</td>\n",
       "    </tr>\n",
       "    <tr>\n",
       "      <th>37.0</th>\n",
       "      <td>1</td>\n",
       "      <td>15</td>\n",
       "      <td>17</td>\n",
       "      <td>781</td>\n",
       "      <td>63</td>\n",
       "      <td>877</td>\n",
       "    </tr>\n",
       "    <tr>\n",
       "      <th>38.0</th>\n",
       "      <td>6</td>\n",
       "      <td>32</td>\n",
       "      <td>24</td>\n",
       "      <td>80</td>\n",
       "      <td>729</td>\n",
       "      <td>871</td>\n",
       "    </tr>\n",
       "    <tr>\n",
       "      <th>All</th>\n",
       "      <td>1007</td>\n",
       "      <td>931</td>\n",
       "      <td>890</td>\n",
       "      <td>891</td>\n",
       "      <td>840</td>\n",
       "      <td>4559</td>\n",
       "    </tr>\n",
       "  </tbody>\n",
       "</table>\n",
       "</div>"
      ],
      "text/plain": [
       "Predicted   3.0  5.0  36.0  37.0  38.0   All\n",
       "True                                        \n",
       "3.0         974   13     5     1     1   994\n",
       "5.0          20  793    77    15    27   932\n",
       "36.0          6   78   767    14    20   885\n",
       "37.0          1   15    17   781    63   877\n",
       "38.0          6   32    24    80   729   871\n",
       "All        1007  931   890   891   840  4559"
      ]
     },
     "execution_count": 46,
     "metadata": {},
     "output_type": "execute_result"
    }
   ],
   "source": [
    "pd.crosstab(test.TripType,predictions , rownames=['True'], colnames=['Predicted'], margins=True)\n"
   ]
  },
  {
   "cell_type": "markdown",
   "metadata": {},
   "source": [
    "### Classification report Random Forest"
   ]
  },
  {
   "cell_type": "code",
   "execution_count": 47,
   "metadata": {
    "collapsed": false
   },
   "outputs": [
    {
     "name": "stdout",
     "output_type": "stream",
     "text": [
      "             precision    recall  f1-score   support\n",
      "\n",
      "        3.0       0.97      0.98      0.97       994\n",
      "        5.0       0.85      0.85      0.85       932\n",
      "       36.0       0.86      0.87      0.86       885\n",
      "       37.0       0.88      0.89      0.88       877\n",
      "       38.0       0.87      0.84      0.85       871\n",
      "\n",
      "avg / total       0.89      0.89      0.89      4559\n",
      "\n"
     ]
    }
   ],
   "source": [
    "print(classification_report(test[\"TripType\"], predictions))"
   ]
  },
  {
   "cell_type": "markdown",
   "metadata": {},
   "source": [
    "# Linear Discriminent Analysis"
   ]
  },
  {
   "cell_type": "code",
   "execution_count": 48,
   "metadata": {
    "collapsed": false
   },
   "outputs": [
    {
     "name": "stderr",
     "output_type": "stream",
     "text": [
      "C:\\Users\\Gokulraj\\Anaconda3\\lib\\site-packages\\sklearn\\discriminant_analysis.py:387: UserWarning: Variables are collinear.\n",
      "  warnings.warn(\"Variables are collinear.\")\n"
     ]
    }
   ],
   "source": [
    "#LDA\n",
    "\n",
    "clf = LDA()\n",
    "clf = clf.fit(np.asarray(train_data[features]), np.asarray(train_data.TripType))\n",
    "predictions = clf.predict(np.asarray(test[features]))"
   ]
  },
  {
   "cell_type": "code",
   "execution_count": 49,
   "metadata": {
    "collapsed": true
   },
   "outputs": [],
   "source": [
    "predictions1 = clf.predict(np.asarray(train_data[features]))"
   ]
  },
  {
   "cell_type": "markdown",
   "metadata": {},
   "source": [
    "### Accuracy LDA"
   ]
  },
  {
   "cell_type": "code",
   "execution_count": 50,
   "metadata": {
    "collapsed": false
   },
   "outputs": [
    {
     "data": {
      "text/plain": [
       "0.86400526431234925"
      ]
     },
     "execution_count": 50,
     "metadata": {},
     "output_type": "execute_result"
    }
   ],
   "source": [
    "# Accuracy of LDA\n",
    "accuracy_score(test.TripType,predictions )"
   ]
  },
  {
   "cell_type": "code",
   "execution_count": 51,
   "metadata": {
    "collapsed": false
   },
   "outputs": [
    {
     "data": {
      "text/plain": [
       "0.86733734486649117"
      ]
     },
     "execution_count": 51,
     "metadata": {},
     "output_type": "execute_result"
    }
   ],
   "source": [
    "# Accuracy Training\n",
    "accuracy_score(train_data.TripType,predictions1 )"
   ]
  },
  {
   "cell_type": "markdown",
   "metadata": {},
   "source": [
    "### Confusion Matrix LDA"
   ]
  },
  {
   "cell_type": "code",
   "execution_count": 52,
   "metadata": {
    "collapsed": false
   },
   "outputs": [
    {
     "data": {
      "text/html": [
       "<div>\n",
       "<table border=\"1\" class=\"dataframe\">\n",
       "  <thead>\n",
       "    <tr style=\"text-align: right;\">\n",
       "      <th>Predicted</th>\n",
       "      <th>3.0</th>\n",
       "      <th>5.0</th>\n",
       "      <th>36.0</th>\n",
       "      <th>37.0</th>\n",
       "      <th>38.0</th>\n",
       "      <th>All</th>\n",
       "    </tr>\n",
       "    <tr>\n",
       "      <th>True</th>\n",
       "      <th></th>\n",
       "      <th></th>\n",
       "      <th></th>\n",
       "      <th></th>\n",
       "      <th></th>\n",
       "      <th></th>\n",
       "    </tr>\n",
       "  </thead>\n",
       "  <tbody>\n",
       "    <tr>\n",
       "      <th>3.0</th>\n",
       "      <td>904</td>\n",
       "      <td>88</td>\n",
       "      <td>1</td>\n",
       "      <td>0</td>\n",
       "      <td>1</td>\n",
       "      <td>994</td>\n",
       "    </tr>\n",
       "    <tr>\n",
       "      <th>5.0</th>\n",
       "      <td>3</td>\n",
       "      <td>855</td>\n",
       "      <td>48</td>\n",
       "      <td>7</td>\n",
       "      <td>19</td>\n",
       "      <td>932</td>\n",
       "    </tr>\n",
       "    <tr>\n",
       "      <th>36.0</th>\n",
       "      <td>15</td>\n",
       "      <td>94</td>\n",
       "      <td>740</td>\n",
       "      <td>10</td>\n",
       "      <td>26</td>\n",
       "      <td>885</td>\n",
       "    </tr>\n",
       "    <tr>\n",
       "      <th>37.0</th>\n",
       "      <td>9</td>\n",
       "      <td>54</td>\n",
       "      <td>18</td>\n",
       "      <td>678</td>\n",
       "      <td>118</td>\n",
       "      <td>877</td>\n",
       "    </tr>\n",
       "    <tr>\n",
       "      <th>38.0</th>\n",
       "      <td>8</td>\n",
       "      <td>48</td>\n",
       "      <td>19</td>\n",
       "      <td>34</td>\n",
       "      <td>762</td>\n",
       "      <td>871</td>\n",
       "    </tr>\n",
       "    <tr>\n",
       "      <th>All</th>\n",
       "      <td>939</td>\n",
       "      <td>1139</td>\n",
       "      <td>826</td>\n",
       "      <td>729</td>\n",
       "      <td>926</td>\n",
       "      <td>4559</td>\n",
       "    </tr>\n",
       "  </tbody>\n",
       "</table>\n",
       "</div>"
      ],
      "text/plain": [
       "Predicted  3.0   5.0  36.0  37.0  38.0   All\n",
       "True                                        \n",
       "3.0        904    88     1     0     1   994\n",
       "5.0          3   855    48     7    19   932\n",
       "36.0        15    94   740    10    26   885\n",
       "37.0         9    54    18   678   118   877\n",
       "38.0         8    48    19    34   762   871\n",
       "All        939  1139   826   729   926  4559"
      ]
     },
     "execution_count": 52,
     "metadata": {},
     "output_type": "execute_result"
    }
   ],
   "source": [
    "pd.crosstab(test.TripType,predictions , rownames=['True'], colnames=['Predicted'], margins=True)\n"
   ]
  },
  {
   "cell_type": "markdown",
   "metadata": {},
   "source": [
    "### Classification Report"
   ]
  },
  {
   "cell_type": "code",
   "execution_count": 53,
   "metadata": {
    "collapsed": false
   },
   "outputs": [
    {
     "name": "stdout",
     "output_type": "stream",
     "text": [
      "             precision    recall  f1-score   support\n",
      "\n",
      "        3.0       0.96      0.91      0.94       994\n",
      "        5.0       0.75      0.92      0.83       932\n",
      "       36.0       0.90      0.84      0.86       885\n",
      "       37.0       0.93      0.77      0.84       877\n",
      "       38.0       0.82      0.87      0.85       871\n",
      "\n",
      "avg / total       0.87      0.86      0.87      4559\n",
      "\n"
     ]
    }
   ],
   "source": [
    "print(classification_report(test[\"TripType\"], predictions))"
   ]
  },
  {
   "cell_type": "markdown",
   "metadata": {},
   "source": [
    "## L1 Logistic Regression"
   ]
  },
  {
   "cell_type": "code",
   "execution_count": 54,
   "metadata": {
    "collapsed": true
   },
   "outputs": [],
   "source": [
    "train_data.to_csv(\"featureData.csv\", sep=',')"
   ]
  },
  {
   "cell_type": "code",
   "execution_count": 55,
   "metadata": {
    "collapsed": true
   },
   "outputs": [],
   "source": [
    "clf = LogisticRegression(C= 0.1, penalty='l1')"
   ]
  },
  {
   "cell_type": "code",
   "execution_count": 56,
   "metadata": {
    "collapsed": true
   },
   "outputs": [],
   "source": [
    "clf = clf.fit(np.asarray(train_data[features]), np.asarray(train_data.TripType))\n",
    "predictions = clf.predict(np.asarray(test[features]))\n",
    "predictions1 = clf.predict(np.asarray(train_data[features]))"
   ]
  },
  {
   "cell_type": "code",
   "execution_count": 57,
   "metadata": {
    "collapsed": false
   },
   "outputs": [
    {
     "data": {
      "text/plain": [
       "(0.89892816848439261, 0.89559113840754556)"
      ]
     },
     "execution_count": 57,
     "metadata": {},
     "output_type": "execute_result"
    }
   ],
   "source": [
    "accuracy_score(train_data.TripType,predictions1 ), accuracy_score(test.TripType,predictions )"
   ]
  },
  {
   "cell_type": "markdown",
   "metadata": {},
   "source": [
    "### Grid search CV to select best params"
   ]
  },
  {
   "cell_type": "code",
   "execution_count": 60,
   "metadata": {
    "collapsed": false
   },
   "outputs": [],
   "source": [
    "from sklearn.linear_model import LogisticRegressionCV"
   ]
  },
  {
   "cell_type": "code",
   "execution_count": 66,
   "metadata": {
    "collapsed": false
   },
   "outputs": [
    {
     "name": "stdout",
     "output_type": "stream",
     "text": [
      "[1.0, 2.0, 3.0, 4.0, 5.0, 6.0, 7.0, 8.0, 9.0, 10.0, 11.0, 12.0, 13.0, 14.0, 15.0, 16.0, 17.0, 18.0, 19.0, 20.0, 21.0, 22.0, 23.0, 24.0, 25.0, 26.0, 27.0, 28.0, 29.0, 30.0, 31.0, 32.0, 33.0, 34.0, 35.0, 36.0, 37.0, 38.0, 39.0, 40.0, 41.0, 42.0, 43.0, 44.0, 45.0, 46.0, 47.0, 48.0, 49.0, 50.0, 51.0, 52.0, 53.0, 54.0, 55.0, 56.0, 57.0, 58.0, 59.0, 60.0, 61.0, 62.0, 63.0, 64.0, 65.0, 66.0, 67.0, 68.0, 69.0, 70.0, 71.0, 72.0, 73.0, 74.0, 75.0, 76.0, 77.0, 78.0, 79.0, 80.0, 81.0, 82.0, 83.0, 84.0, 85.0, 86.0, 87.0, 88.0, 89.0, 90.0, 91.0, 92.0, 93.0, 94.0, 95.0, 96.0, 97.0, 98.0, 99.0]\n"
     ]
    }
   ],
   "source": [
    "cvalues = [float(x) for x in range(1 , 100, 1)]\n",
    "print(cvalues)"
   ]
  },
  {
   "cell_type": "code",
   "execution_count": 70,
   "metadata": {
    "collapsed": true
   },
   "outputs": [],
   "source": [
    "lrCV = LogisticRegressionCV(Cs=cvalues, penalty='l1', solver = 'liblinear')"
   ]
  },
  {
   "cell_type": "code",
   "execution_count": 71,
   "metadata": {
    "collapsed": false
   },
   "outputs": [],
   "source": [
    "lrCV = lrCV.fit(np.asarray(train_data[features]), np.asarray(train_data.TripType))\n",
    "predictions = lrCV.predict(np.asarray(test[features]))\n",
    "predictions1 = lrCV.predict(np.asarray(train_data[features]))"
   ]
  },
  {
   "cell_type": "code",
   "execution_count": 72,
   "metadata": {
    "collapsed": false
   },
   "outputs": [
    {
     "data": {
      "text/plain": [
       "(0.90146671681083113, 0.89537179205966222)"
      ]
     },
     "execution_count": 72,
     "metadata": {},
     "output_type": "execute_result"
    }
   ],
   "source": [
    "accuracy_score(train_data.TripType,predictions1 ), accuracy_score(test.TripType,predictions )"
   ]
  },
  {
   "cell_type": "code",
   "execution_count": 84,
   "metadata": {
    "collapsed": false
   },
   "outputs": [
    {
     "data": {
      "text/plain": [
       "array([[ -6.30717705e-02,  -1.56012509e+00,  -8.00863384e-01,\n",
       "          5.12118298e-01,   5.42720999e-01,  -1.05847138e+00,\n",
       "          0.00000000e+00,  -8.27082668e-01,   0.00000000e+00,\n",
       "          2.08469560e+00,   0.00000000e+00,   0.00000000e+00,\n",
       "          0.00000000e+00,   0.00000000e+00,   0.00000000e+00,\n",
       "         -4.58934287e-01,   0.00000000e+00,   0.00000000e+00,\n",
       "         -9.90516844e-01,  -3.83002230e-01,   1.27007910e-01,\n",
       "          0.00000000e+00,   6.60966574e+00,  -8.17129053e-01,\n",
       "          0.00000000e+00,   0.00000000e+00,  -1.44960437e+00,\n",
       "          0.00000000e+00,   0.00000000e+00,   1.25851364e+00,\n",
       "          0.00000000e+00,  -1.05700075e+00,  -4.99337758e-01,\n",
       "          1.59131237e+00,   0.00000000e+00,   9.98783070e-01,\n",
       "          0.00000000e+00,   0.00000000e+00,   1.19806250e-01,\n",
       "          4.31773364e+00,   8.72668371e-02,   7.54838182e-01,\n",
       "          0.00000000e+00,   0.00000000e+00,   1.77133534e-01,\n",
       "          0.00000000e+00,  -3.09714708e+00,  -2.32549141e+00,\n",
       "          0.00000000e+00,   0.00000000e+00,  -1.93518946e+00,\n",
       "          0.00000000e+00,  -3.05274808e+00,  -2.78060218e+00,\n",
       "          0.00000000e+00,   0.00000000e+00,   0.00000000e+00,\n",
       "         -1.66713533e+00,   0.00000000e+00,   0.00000000e+00,\n",
       "          0.00000000e+00,   0.00000000e+00,  -1.21396415e-01,\n",
       "          0.00000000e+00,   5.03927885e-01,   0.00000000e+00,\n",
       "          0.00000000e+00,   0.00000000e+00],\n",
       "       [ -6.32348407e-03,  -4.13978300e-01,   0.00000000e+00,\n",
       "          4.98889804e-01,  -1.11796454e-01,  -9.58309682e-02,\n",
       "          0.00000000e+00,  -1.30181629e+00,  -1.76912375e-01,\n",
       "          0.00000000e+00,  -8.20615976e-02,   3.66816510e-01,\n",
       "          0.00000000e+00,   0.00000000e+00,   5.88655016e-01,\n",
       "         -2.38208037e-01,   0.00000000e+00,   1.14757416e-01,\n",
       "         -5.87928384e-01,   0.00000000e+00,   3.39870491e-01,\n",
       "          3.89683905e-01,  -3.90476754e+00,  -8.87981839e-02,\n",
       "          0.00000000e+00,   3.77661864e-02,  -3.49336349e-01,\n",
       "          3.63139227e-01,   0.00000000e+00,   4.58323386e-01,\n",
       "         -5.68608125e-02,   7.98706790e-02,  -1.77022702e-01,\n",
       "         -3.57066559e-01,   3.14145173e-01,  -1.95812744e-01,\n",
       "          0.00000000e+00,   1.80569421e+00,  -2.54606584e-01,\n",
       "         -2.92069415e+00,   5.58348464e-02,   2.51730061e-01,\n",
       "         -1.14336659e+00,   8.47121506e-01,   4.00216084e-01,\n",
       "          3.94880853e-01,   2.87712567e+00,   3.33193331e+00,\n",
       "          0.00000000e+00,   0.00000000e+00,  -8.94630261e-01,\n",
       "          1.42379289e-01,   2.29750521e+00,   4.03370536e+00,\n",
       "          0.00000000e+00,   0.00000000e+00,  -4.84792682e-01,\n",
       "         -5.01695049e-01,   0.00000000e+00,   0.00000000e+00,\n",
       "         -3.42479954e-01,   0.00000000e+00,  -1.52921770e-01,\n",
       "         -4.29261911e-01,   0.00000000e+00,   0.00000000e+00,\n",
       "          0.00000000e+00,   0.00000000e+00],\n",
       "       [ -8.79440660e-03,   5.56826328e-03,   4.54522676e-02,\n",
       "         -5.44556598e-03,   4.32307301e-01,  -1.84358865e-01,\n",
       "          4.30489465e-01,   2.19479174e+00,   1.17426027e+00,\n",
       "         -5.75649582e-01,   4.79337008e-01,  -3.14516605e+00,\n",
       "         -2.60529759e+00,   2.19151614e-01,   1.37305312e-01,\n",
       "         -8.97781064e-01,   0.00000000e+00,  -3.52851889e-01,\n",
       "         -8.95227370e-01,  -2.24301580e-02,  -1.08489829e-01,\n",
       "          1.93665496e-01,  -2.11656548e+00,  -4.99211705e-01,\n",
       "          0.00000000e+00,   4.31109604e-01,  -2.89964347e-01,\n",
       "          2.91226418e-01,  -4.60061221e-01,   1.83450270e-01,\n",
       "          3.65303718e-01,   6.56529261e-02,   4.42098562e-01,\n",
       "          2.66672738e-01,   1.49150413e-01,   3.11340690e-01,\n",
       "          6.12108124e-01,  -5.13116948e-01,   4.22392005e-01,\n",
       "         -6.26752066e+00,   4.14745149e-01,  -8.72460214e-02,\n",
       "         -1.63967803e+00,  -7.41038320e-01,   2.73481856e-01,\n",
       "          1.32775569e-01,  -1.53385658e+00,  -5.08523579e+00,\n",
       "         -1.74239855e+00,  -1.07613253e-01,   1.75596845e+00,\n",
       "          1.27408215e-01,  -9.15906149e-01,  -6.16225834e+00,\n",
       "          8.27622992e-02,   2.58961696e+00,  -1.10685297e+00,\n",
       "         -6.77745042e-01,  -2.64214190e-02,   0.00000000e+00,\n",
       "         -4.63489478e-01,  -6.22492039e-01,   2.39072559e-01,\n",
       "         -3.38157652e-01,   3.26372542e-01,   2.42781516e+00,\n",
       "          8.57373015e-01,   1.96529147e+00],\n",
       "       [  2.45026019e-02,  -4.39271179e-03,  -4.64525872e-01,\n",
       "         -1.07904248e-01,  -2.45436913e-01,   0.00000000e+00,\n",
       "          1.35739915e-01,  -1.35173516e+00,  -3.24118813e-01,\n",
       "          0.00000000e+00,   0.00000000e+00,   0.00000000e+00,\n",
       "         -8.33931812e-01,  -5.67305355e-01,   0.00000000e+00,\n",
       "         -4.35945820e-01,   0.00000000e+00,   5.42235444e-01,\n",
       "         -7.37290132e-01,  -6.05792373e-02,   2.96394588e-02,\n",
       "         -2.33037336e-01,  -2.61380170e+00,  -1.78653572e-01,\n",
       "          0.00000000e+00,   3.79150751e-01,  -2.50332343e-01,\n",
       "         -6.77859306e-01,   5.92831514e-01,   3.13332043e-01,\n",
       "          1.96418047e-02,   1.14146731e-01,   1.64054492e-01,\n",
       "         -7.97835678e-02,   2.06678707e-01,  -8.77580212e-04,\n",
       "         -4.92249200e-01,  -7.36466245e-01,  -3.04829926e-01,\n",
       "         -4.45360793e+00,   7.31519230e-01,   1.97380152e-01,\n",
       "          2.97223427e+00,   9.39694096e-01,  -2.58585442e-01,\n",
       "         -2.80405128e-01,  -5.02681510e+00,  -3.49180398e+00,\n",
       "         -5.01662744e-02,   9.44874334e-01,  -9.01854401e-01,\n",
       "          9.03556526e-02,  -1.43046101e+00,  -4.43215276e+00,\n",
       "          0.00000000e+00,   0.00000000e+00,   2.09004477e-01,\n",
       "          1.57749317e+00,   9.80175022e-01,   0.00000000e+00,\n",
       "          1.26728832e+00,  -8.06802183e-01,   2.19999314e-01,\n",
       "          3.26302690e-01,   4.03709892e-01,   0.00000000e+00,\n",
       "          2.75345850e-01,  -2.97063845e-01],\n",
       "       [ -1.59110926e-02,  -9.93940375e-02,  -1.68048490e-01,\n",
       "         -1.87048356e-01,   3.30804960e-01,   8.02347707e-01,\n",
       "          0.00000000e+00,  -1.17291180e+00,   0.00000000e+00,\n",
       "         -2.43763961e-01,   0.00000000e+00,   0.00000000e+00,\n",
       "          0.00000000e+00,   5.19285839e-01,  -4.22422664e-02,\n",
       "          8.68099698e-01,   0.00000000e+00,   0.00000000e+00,\n",
       "          1.30409306e+00,   4.79605092e-01,  -6.27477489e-02,\n",
       "          2.42648627e-01,  -2.76077359e+00,   5.36789689e-01,\n",
       "          0.00000000e+00,  -2.34123143e-01,   6.82771611e-01,\n",
       "          5.24410554e-01,   8.17874017e-03,  -1.33008175e-01,\n",
       "         -5.80619636e-01,   3.32846164e-01,   1.33055253e-01,\n",
       "          0.00000000e+00,   6.80467024e-02,   3.43391111e-01,\n",
       "         -1.44626051e-01,   0.00000000e+00,   7.64698341e-01,\n",
       "         -2.41572299e+00,  -2.58810912e-01,  -3.31557496e-02,\n",
       "         -3.26979272e+00,   0.00000000e+00,  -1.77556960e-02,\n",
       "         -6.40480429e-03,  -2.28011967e+00,  -1.60266112e+00,\n",
       "          0.00000000e+00,   1.81612173e-01,  -8.93461106e-01,\n",
       "          7.91971440e-02,  -1.54934031e+00,  -2.44454675e+00,\n",
       "          0.00000000e+00,   0.00000000e+00,   4.28789970e-01,\n",
       "         -1.15175593e+00,  -2.15259178e+00,   0.00000000e+00,\n",
       "         -3.96556796e-01,   1.07921825e+00,   0.00000000e+00,\n",
       "          7.64302407e-01,  -7.75466453e-02,   0.00000000e+00,\n",
       "         -1.20723056e-01,   0.00000000e+00]])"
      ]
     },
     "execution_count": 84,
     "metadata": {},
     "output_type": "execute_result"
    }
   ],
   "source": [
    "lrCV.coef_"
   ]
  },
  {
   "cell_type": "markdown",
   "metadata": {},
   "source": [
    "### Best Lambda for each classes"
   ]
  },
  {
   "cell_type": "code",
   "execution_count": 87,
   "metadata": {
    "collapsed": false
   },
   "outputs": [
    {
     "data": {
      "text/plain": [
       "array([  1.,   1.,  74.,  15.,   1.])"
      ]
     },
     "execution_count": 87,
     "metadata": {},
     "output_type": "execute_result"
    }
   ],
   "source": [
    "lrCV.C_"
   ]
  }
 ],
 "metadata": {
  "anaconda-cloud": {},
  "kernelspec": {
   "display_name": "Python [Root]",
   "language": "python",
   "name": "Python [Root]"
  },
  "language_info": {
   "codemirror_mode": {
    "name": "ipython",
    "version": 3
   },
   "file_extension": ".py",
   "mimetype": "text/x-python",
   "name": "python",
   "nbconvert_exporter": "python",
   "pygments_lexer": "ipython3",
   "version": "3.5.2"
  },
  "widgets": {
   "state": {},
   "version": "1.1.2"
  }
 },
 "nbformat": 4,
 "nbformat_minor": 0
}
